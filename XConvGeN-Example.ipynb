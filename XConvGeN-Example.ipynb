{
 "cells": [
  {
   "cell_type": "code",
   "execution_count": 1,
   "id": "b9b5254c",
   "metadata": {},
   "outputs": [],
   "source": [
    "from library.analysis import loadDataset, testSets\n",
    "#from library.exercise import plotCloud\n",
    "from library.generators.XConvGeN import XConvGeN, GeneratorConfig\n",
    "from library.timing import timing\n",
    "from fdc.fdc import FDC\n",
    "import numpy as np\n",
    "import tensorflow as tf"
   ]
  },
  {
   "cell_type": "code",
   "execution_count": 48,
   "id": "6bfec0a2",
   "metadata": {},
   "outputs": [
    {
     "name": "stdout",
     "output_type": "stream",
     "text": [
      "Load 'folding_shuttle-2_vs_5'\n",
      "from pickle file\n",
      "Data loaded.\n"
     ]
    }
   ],
   "source": [
    "data = loadDataset(testSets[9])"
   ]
  },
  {
   "cell_type": "code",
   "execution_count": 49,
   "id": "6d686da5",
   "metadata": {},
   "outputs": [
    {
     "name": "stdout",
     "output_type": "stream",
     "text": [
      "(3316, 3267, 49)\n"
     ]
    }
   ],
   "source": [
    "print((len(data.data), len(data.data0), len(data.data1)))"
   ]
  },
  {
   "cell_type": "code",
   "execution_count": 50,
   "id": "0e677cc3",
   "metadata": {},
   "outputs": [
    {
     "name": "stdout",
     "output_type": "stream",
     "text": [
      "0: 40.000 .. 54.773 .. 72.000: [40.0, 41.0, 42.0, 43.0, 44.0, 45.0, 46.0, 47.0, 48.0, 49.0]...\n",
      "1: 21.000 .. 45.556 .. 92.000: [21.0, 22.0, 23.0, 24.0, 27.0, 28.0, 29.0, 30.0, 31.0, 32.0]...\n",
      "2: [77.0, 79.0, 80.0, 82.0]\n",
      "3: [0.0]\n",
      "4: [-42.0, -40.0, -22.0, 28.0, 34.0, 42.0]\n",
      "5: -8.000 .. 1.545 .. 28.000: [-8.0, -7.0, -6.0, -5.0, -4.0, -3.0, -2.0, -1.0, 0.0, 25.0]...\n",
      "6: 10.000 .. 25.000 .. 38.000: [10.0, 11.0, 12.0, 13.0, 14.0, 16.0, 18.0, 20.0, 22.0, 23.0]...\n",
      "7: [37.0, 46.0, 48.0, 101.0, 123.0, 126.0]\n",
      "8: 6.000 .. 55.545 .. 116.000: [6.0, 8.0, 10.0, 12.0, 14.0, 16.0, 18.0, 20.0, 22.0, 24.0]...\n"
     ]
    }
   ],
   "source": [
    "for n in range(data.data1.shape[1]):\n",
    "    s = list(set(data.data1[:,n]))\n",
    "    s.sort()\n",
    "    if len(s) <= 10:\n",
    "        print(f\"{n}: {s}\")\n",
    "    else:\n",
    "        print(f\"{n}: {min(s):0.3f} .. {sum(s) / len(s):0.3f} .. {max(s):0.3f}: {s[:10]}...\")"
   ]
  },
  {
   "cell_type": "code",
   "execution_count": 51,
   "id": "9e3e3806",
   "metadata": {},
   "outputs": [],
   "source": [
    "fdc = FDC()\n",
    "#fdc.nom_list = [0]\n",
    "#fdc.cont_list = list(range(data.data0.shape[1]))[1:]\n",
    "#fdc.nom_list = [1,2,3,4,5,6,7,8,9,10,11,12,13,15,17,19,21,23]\n",
    "#fdc.ord_list = [0,14,16,18,20,22,24]\n",
    "#fdc.cont_list = None\n",
    "fdc.cont_list = list(range(data.data0.shape[1]))"
   ]
  },
  {
   "cell_type": "code",
   "execution_count": 52,
   "id": "01d71d6a",
   "metadata": {},
   "outputs": [],
   "source": [
    "config = GeneratorConfig(n_feat=data.data0.shape[1], neb=5, genAddNoise=False)\n",
    "gen = XConvGeN(config=config, fdc=fdc, debug=True)"
   ]
  },
  {
   "cell_type": "code",
   "execution_count": 53,
   "id": "ad01be2b",
   "metadata": {
    "scrolled": false
   },
   "outputs": [
    {
     "name": "stdout",
     "output_type": "stream",
     "text": [
      "neb=5, gen=5\n",
      "Model: \"model_12\"\n",
      "__________________________________________________________________________________________________\n",
      " Layer (type)                   Output Shape         Param #     Connected to                     \n",
      "==================================================================================================\n",
      " input_13 (InputLayer)          [(None, 5, 9)]       0           []                               \n",
      "                                                                                                  \n",
      " UnsharpenInput (Conv1D)        (None, 3, 9)         252         ['input_13[0][0]']               \n",
      "                                                                                                  \n",
      " InputMatrixToVector (Flatten)  (None, 27)           0           ['UnsharpenInput[0][0]']         \n",
      "                                                                                                  \n",
      " P5_dense (Dense)               (None, 25)           700         ['InputMatrixToVector[0][0]']    \n",
      "                                                                                                  \n",
      " P5_reshape (Reshape)           (None, 5, 5)         0           ['P5_dense[0][0]']               \n",
      "                                                                                                  \n",
      " tf.math.reduce_sum_4 (TFOpLamb  (None, 5)           0           ['P5_reshape[0][0]']             \n",
      " da)                                                                                              \n",
      "                                                                                                  \n",
      " tf.math.reciprocal_4 (TFOpLamb  (None, 5)           0           ['tf.math.reduce_sum_4[0][0]']   \n",
      " da)                                                                                              \n",
      "                                                                                                  \n",
      " P5_normalize (Multiply)        (None, 5, 5)         0           ['tf.math.reciprocal_4[0][0]',   \n",
      "                                                                  'P5_reshape[0][0]']             \n",
      "                                                                                                  \n",
      " tf.__operators__.getitem_4 (Sl  (5, 5)              0           ['P5_normalize[0][0]']           \n",
      " icingOpLambda)                                                                                   \n",
      "                                                                                                  \n",
      " tf.compat.v1.transpose_4 (TFOp  (5, 5)              0           ['tf.__operators__.getitem_4[0][0\n",
      " Lambda)                                                         ]']                              \n",
      "                                                                                                  \n",
      " tf.linalg.matmul_4 (TFOpLambda  (None, 5, 9)        0           ['tf.compat.v1.transpose_4[0][0]'\n",
      " )                                                               , 'input_13[0][0]']              \n",
      "                                                                                                  \n",
      " tf.identity_4 (TFOpLambda)     (None, 5, 9)         0           ['tf.linalg.matmul_4[0][0]']     \n",
      "                                                                                                  \n",
      "==================================================================================================\n",
      "Total params: 952\n",
      "Trainable params: 952\n",
      "Non-trainable params: 0\n",
      "__________________________________________________________________________________________________\n",
      "None\n",
      "\n",
      "\n",
      "Model: \"model_13\"\n",
      "_________________________________________________________________\n",
      " Layer (type)                Output Shape              Param #   \n",
      "=================================================================\n",
      " input_14 (InputLayer)       [(None, 9)]               0         \n",
      "                                                                 \n",
      " dense_16 (Dense)            (None, 250)               2500      \n",
      "                                                                 \n",
      " dense_17 (Dense)            (None, 125)               31375     \n",
      "                                                                 \n",
      " dense_18 (Dense)            (None, 75)                9450      \n",
      "                                                                 \n",
      " dense_19 (Dense)            (None, 2)                 152       \n",
      "                                                                 \n",
      "=================================================================\n",
      "Total params: 43,477\n",
      "Trainable params: 0\n",
      "Non-trainable params: 43,477\n",
      "_________________________________________________________________\n",
      "None\n",
      "\n",
      "\n",
      "Model: \"model_14\"\n",
      "__________________________________________________________________________________________________\n",
      " Layer (type)                   Output Shape         Param #     Connected to                     \n",
      "==================================================================================================\n",
      " input_15 (InputLayer)          [(None, 2, 5, 9)]    0           []                               \n",
      "                                                                                                  \n",
      " SplitForGen (Lambda)           (None, 5, 9)         0           ['input_15[0][0]']               \n",
      "                                                                                                  \n",
      " model_12 (Functional)          (None, 5, 9)         952         ['SplitForGen[0][0]']            \n",
      "                                                                                                  \n",
      " SplitForDisc (Lambda)          (None, 5, 9)         0           ['input_15[0][0]']               \n",
      "                                                                                                  \n",
      " tf.reshape_17 (TFOpLambda)     (None, 9)            0           ['model_12[0][0]']               \n",
      "                                                                                                  \n",
      " tf.reshape_16 (TFOpLambda)     (None, 9)            0           ['SplitForDisc[0][0]']           \n",
      "                                                                                                  \n",
      " model_13 (Functional)          (None, 2)            43477       ['tf.reshape_17[0][0]',          \n",
      "                                                                  'tf.reshape_16[0][0]']          \n",
      "                                                                                                  \n",
      " tf.reshape_18 (TFOpLambda)     (None, 5, 2)         0           ['model_13[0][0]']               \n",
      "                                                                                                  \n",
      " tf.reshape_19 (TFOpLambda)     (None, 5, 2)         0           ['model_13[1][0]']               \n",
      "                                                                                                  \n",
      " tf.concat_4 (TFOpLambda)       (None, 10, 2)        0           ['tf.reshape_18[0][0]',          \n",
      "                                                                  'tf.reshape_19[0][0]']          \n",
      "                                                                                                  \n",
      "==================================================================================================\n",
      "Total params: 44,429\n",
      "Trainable params: 952\n",
      "Non-trainable params: 43,477\n",
      "__________________________________________________________________________________________________\n",
      "None\n",
      "\n",
      "\n"
     ]
    }
   ],
   "source": [
    "gen.reset(data.data)"
   ]
  },
  {
   "cell_type": "code",
   "execution_count": 54,
   "id": "4698522c",
   "metadata": {},
   "outputs": [
    {
     "name": "stdout",
     "output_type": "stream",
     "text": [
      "FDC.normalize (init): 0.00002 / 0.000s\n",
      "FDC.normalize (clustering CONT): 0.85782 / 0.858s\n",
      "FDC.normalize (clustering ORD): 0.00007 / 0.858s\n",
      "FDC.normalize (clustering NOM): 0.00001 / 0.858s\n",
      "FDC.normalize (concat): 0.00001 / 0.858s\n",
      "FDC.normalize (total): 0.00001 / 0.858s\n",
      "[========================================]\r"
     ]
    },
    {
     "data": {
      "image/png": "[encoded data removed]",
      "text/plain": [
       "<Figure size 1600x1000 with 1 Axes>"
      ]
     },
     "metadata": {},
     "output_type": "display_data"
    },
    {
     "name": "stdout",
     "output_type": "stream",
     "text": [
      "train: #1 22.8699s\n"
     ]
    }
   ],
   "source": [
    "t = timing(\"train\")\n",
    "t.start()\n",
    "gen.train(data.data1)\n",
    "t.stop()\n",
    "print(t)\n",
    "\n",
    "# train: #1 225.9655s"
   ]
  },
  {
   "cell_type": "code",
   "execution_count": 55,
   "id": "cda17654",
   "metadata": {},
   "outputs": [],
   "source": [
    "syntheticPoints = gen.generateData(data.data1.shape[0])"
   ]
  },
  {
   "cell_type": "code",
   "execution_count": 56,
   "id": "41853bd3",
   "metadata": {},
   "outputs": [
    {
     "name": "stdout",
     "output_type": "stream",
     "text": [
      "[ 51.441696  47.762924  79.60039    0.       -32.40154   -4.160616\n",
      "  28.638615 114.00192   85.84323 ]\n",
      "[ 62.  66.  82.   0. -42.  -8.  20. 126. 106.]\n",
      "[ 51.   47.   79.5   0.  -32.   -4.   29.  113.5  85. ]\n",
      "[ 53.66661    36.333267   78.66666     0.        -28.666622   -1.3333249\n",
      "  25.666708  109.333275   83.9999   ]\n",
      "[ 56.5  45.   79.5   0.  -32.   -4.   23.5 113.5  90. ]\n"
     ]
    }
   ],
   "source": [
    "for x in syntheticPoints[:5]:\n",
    "    print(x)"
   ]
  },
  {
   "cell_type": "code",
   "execution_count": 57,
   "id": "da5ebdb9",
   "metadata": {},
   "outputs": [
    {
     "name": "stdout",
     "output_type": "stream",
     "text": [
      "0: 40.000 .. 54.773 .. 72.000: [40.0, 41.0, 42.0, 43.0, 44.0, 45.0, 46.0, 47.0, 48.0, 49.0]...\n",
      "1: 21.000 .. 45.556 .. 92.000: [21.0, 22.0, 23.0, 24.0, 27.0, 28.0, 29.0, 30.0, 31.0, 32.0]...\n",
      "2: [77.0, 79.0, 80.0, 82.0]\n",
      "3: [0.0]\n",
      "4: [-42.0, -40.0, -22.0, 28.0, 34.0, 42.0]\n",
      "5: -8.000 .. 1.545 .. 28.000: [-8.0, -7.0, -6.0, -5.0, -4.0, -3.0, -2.0, -1.0, 0.0, 25.0]...\n",
      "6: 10.000 .. 25.000 .. 38.000: [10.0, 11.0, 12.0, 13.0, 14.0, 16.0, 18.0, 20.0, 22.0, 23.0]...\n",
      "7: [37.0, 46.0, 48.0, 101.0, 123.0, 126.0]\n",
      "8: 6.000 .. 55.545 .. 116.000: [6.0, 8.0, 10.0, 12.0, 14.0, 16.0, 18.0, 20.0, 22.0, 24.0]...\n"
     ]
    }
   ],
   "source": [
    "for n in range(data.data1.shape[1]):\n",
    "    s = list(set(data.data1[:,n]))\n",
    "    s.sort()\n",
    "    if len(s) <= 10:\n",
    "        print(f\"{n}: {s}\")\n",
    "    else:\n",
    "        print(f\"{n}: {min(s):0.3f} .. {sum(s) / len(s):0.3f} .. {max(s):0.3f}: {s[:10]}...\")"
   ]
  },
  {
   "cell_type": "code",
   "execution_count": 61,
   "id": "4043256c",
   "metadata": {},
   "outputs": [
    {
     "name": "stdout",
     "output_type": "stream",
     "text": [
      "0.0 7.356263197381008 26.551836094703507\n"
     ]
    },
    {
     "data": {
      "text/plain": [
       "[array([ 62.,  66.,  82.,   0., -42.,  -8.,  20., 126., 106.],\n",
       "       dtype=float32),\n",
       " array([ 68.,  67.,  82.,   0., -42.,  -6.,  13., 126., 112.],\n",
       "       dtype=float32),\n",
       " array([49., 28., 77.,  0., 28.,  0., 28., 48., 20.], dtype=float32),\n",
       " array([ 50.,  23.,  77.,   0., -22.,   0.,  27., 101.,  74.],\n",
       "       dtype=float32),\n",
       " array([ 62.,  66.,  82.,   0., -42.,  -8.,  20., 126., 106.],\n",
       "       dtype=float32),\n",
       " array([44., 28., 77.,  0., 28.,  0., 33., 48., 16.], dtype=float32),\n",
       " array([41., 21., 77.,  0., 28.,  0., 36., 48., 12.], dtype=float32),\n",
       " array([ 72.,  30.,  82.,   0., -42.,  -3.,  10., 126., 116.],\n",
       "       dtype=float32),\n",
       " array([41., 21., 77.,  0., 28.,  0., 36., 48., 12.], dtype=float32)]"
      ]
     },
     "execution_count": 61,
     "metadata": {},
     "output_type": "execute_result"
    }
   ],
   "source": [
    "import math\n",
    "dists = [min([math.sqrt(sum(y*y)) for y in (data.data1 - p) ]) for p in syntheticPoints]\n",
    "print( min(dists), sum(dists) / len(dists), max(dists) )\n",
    "[x for (d, x) in zip(dists, syntheticPoints) if d == 0]"
   ]
  },
  {
   "cell_type": "code",
   "execution_count": 68,
   "id": "a61e0d4b",
   "metadata": {},
   "outputs": [
    {
     "name": "stdout",
     "output_type": "stream",
     "text": [
      "0: [1.0, 9.0, 13.0, 81.0]\n",
      "1: [2.0, 2.0, 2.0, 4.0]\n",
      "2: [1.0, 6.0, 14.0, 41.0]\n",
      "3: [6.0, 8.0, 20.0, 35.0]\n",
      "4: [1.0, 4.0, 6.0, 7.0]\n",
      "5: [3.0, 12.0, 80.0, 86.0]\n",
      "6: [2.0, 7.0, 8.0, 33.0]\n",
      "7: [2.0, 3.0, 15.0, 110.0]\n",
      "8: [0.0, 1.0, 40.0, 76.0]\n",
      "9: [1.0, 2.0, 3.0, 90.0]\n",
      "10: [7.0, 8.0, 14.0, 18.0]\n",
      "11: [27.0, 35.0, 41.0, 55.0]\n",
      "12: [2.0, 9.0, 11.0, 14.0]\n",
      "13: [0.0, 1.0, 5.0, 81.0]\n",
      "14: [1.0, 1.0, 4.0, 5.0]\n",
      "15: [4.0, 9.0, 12.0, 90.0]\n",
      "16: [3.0, 5.0, 12.0, 14.0]\n",
      "17: [1.0, 6.0, 35.0, 41.0]\n",
      "18: [5.0, 6.0, 8.0, 10.0]\n",
      "19: [4.0, 10.0, 11.0, 18.0]\n",
      "20: [7.0, 13.0, 14.0, 16.0]\n",
      "21: [0.0, 1.0, 40.0, 76.0]\n",
      "22: [1.0, 1.0, 2.0, 6.0]\n",
      "23: [1.0, 6.0, 36.0, 40.0]\n",
      "24: [3.0, 20.0, 38.0, 55.0]\n",
      "25: [0.0, 2.0, 4.0, 6.0]\n",
      "26: [11.0, 30.0, 35.0, 36.0]\n",
      "27: [5.0, 5.0, 6.0, 86.0]\n",
      "28: [3.0, 6.0, 30.0, 41.0]\n",
      "29: [2.0, 3.0, 9.0, 11.0]\n",
      "30: [1.0, 2.0, 7.0, 14.0]\n",
      "31: [4.0, 6.0, 6.0, 15.0]\n",
      "32: [0.0, 2.0, 4.0, 6.0]\n",
      "33: [1.0, 1.0, 77.0, 88.0]\n",
      "34: [1.0, 3.0, 4.0, 6.0]\n",
      "35: [75.0, 78.0, 82.0, 88.0]\n",
      "36: [1.0, 3.0, 6.0, 13.0]\n",
      "37: [8.0, 13.0, 14.0, 27.0]\n",
      "38: [3.0, 3.0, 4.0, 9.0]\n",
      "39: [0.0, 1.0, 5.0, 81.0]\n",
      "40: [1.0, 6.0, 10.0, 88.0]\n",
      "41: [4.0, 10.0, 15.0, 78.0]\n",
      "42: [2.0, 5.0, 6.0, 35.0]\n",
      "43: [11.0, 38.0, 41.0, 90.0]\n",
      "44: [1.0, 2.0, 17.0, 108.0]\n",
      "45: [1.0, 7.0, 7.0, 11.0]\n",
      "46: [2.0, 7.0, 9.0, 12.0]\n",
      "47: [2.0, 5.0, 7.0, 9.0]\n",
      "48: [6.0, 7.0, 7.0, 9.0]\n"
     ]
    }
   ],
   "source": [
    "for nbh in gen.nmbMin.neighbourhoods:\n",
    "    n = nbh[0]\n",
    "    x = data.data1[n]\n",
    "    d = []\n",
    "    for i in nbh[1:]:\n",
    "        y = data.data1[i]\n",
    "        d.append(abs(sum(x-y)))\n",
    "    d.sort()\n",
    "    print(f\"{n}: {d}\")"
   ]
  },
  {
   "cell_type": "code",
   "execution_count": 59,
   "id": "3bcc8cb7",
   "metadata": {},
   "outputs": [
    {
     "data": {
      "text/plain": [
       "(0.23034507, 0.5882944, 0.4777390719676504)"
      ]
     },
     "execution_count": 59,
     "metadata": {},
     "output_type": "execute_result"
    }
   ],
   "source": [
    "v = gen.predictReal(data.data1)\n",
    "(min(v), max(v), sum(v) / len(v))"
   ]
  },
  {
   "cell_type": "code",
   "execution_count": null,
   "id": "e0352dc8-3192-4cc0-ada4-1a0c450f5941",
   "metadata": {},
   "outputs": [],
   "source": [
    "#plotCloud(data.data1, syntheticPoints)"
   ]
  },
  {
   "cell_type": "code",
   "execution_count": null,
   "id": "4a11869b",
   "metadata": {},
   "outputs": [],
   "source": []
  }
 ],
 "metadata": {
  "kernelspec": {
   "display_name": "Python 3 (ipykernel)",
   "language": "python",
   "name": "python3"
  },
  "language_info": {
   "codemirror_mode": {
    "name": "ipython",
    "version": 3
   },
   "file_extension": ".py",
   "mimetype": "text/x-python",
   "name": "python",
   "nbconvert_exporter": "python",
   "pygments_lexer": "ipython3",
   "version": "3.8.10"
  }
 },
 "nbformat": 4,
 "nbformat_minor": 5
}
