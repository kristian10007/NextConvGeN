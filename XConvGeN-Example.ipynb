{
 "cells": [
  {
   "cell_type": "code",
   "execution_count": null,
   "id": "b9b5254c",
   "metadata": {},
   "outputs": [],
   "source": [
    "from library.analysis import loadDataset, testSets\n",
    "from library.generators.XConvGeN import XConvGeN, GeneratorConfig\n",
    "from library.timing import timing\n",
    "from fdc.fdc import FDC\n",
    "import numpy as np\n",
    "import tensorflow as tf"
   ]
  },
  {
   "cell_type": "code",
   "execution_count": null,
   "id": "6bfec0a2",
   "metadata": {},
   "outputs": [],
   "source": [
    "data = loadDataset(testSets[0])"
   ]
  },
  {
   "cell_type": "code",
   "execution_count": null,
   "id": "6d686da5",
   "metadata": {},
   "outputs": [],
   "source": [
    "print((len(data.data), len(data.data0), len(data.data1)))"
   ]
  },
  {
   "cell_type": "code",
   "execution_count": null,
   "id": "9e3e3806",
   "metadata": {},
   "outputs": [],
   "source": [
    "fdc = FDC()\n",
    "fdc.nom_list = [0]\n",
    "fdc.cont_list = list(range(data.data0.shape[1]))[1:]"
   ]
  },
  {
   "cell_type": "code",
   "execution_count": null,
   "id": "01d71d6a",
   "metadata": {},
   "outputs": [],
   "source": [
    "config = GeneratorConfig(n_feat=data.data0.shape[1], neb=5, genAddNoise=True, alpha_clip=0.1)\n",
    "gen = XConvGeN(config=config, fdc=fdc, debug=True)"
   ]
  },
  {
   "cell_type": "code",
   "execution_count": null,
   "id": "ad01be2b",
   "metadata": {
    "scrolled": true
   },
   "outputs": [],
   "source": [
    "gen.reset(data.data)"
   ]
  },
  {
   "cell_type": "code",
   "execution_count": null,
   "id": "4698522c",
   "metadata": {},
   "outputs": [],
   "source": [
    "t = timing(\"train\")\n",
    "t.start()\n",
    "gen.train(data.data)\n",
    "t.stop()\n",
    "print(t)\n",
    "\n",
    "# train: #1 225.9655s"
   ]
  },
  {
   "cell_type": "code",
   "execution_count": null,
   "id": "cda17654",
   "metadata": {},
   "outputs": [],
   "source": [
    "#train: #1 1634.8339s\n",
    "\n",
    "syntheticPoints = gen.generateData(data.data1.shape[0])"
   ]
  },
  {
   "cell_type": "code",
   "execution_count": null,
   "id": "41853bd3",
   "metadata": {
    "scrolled": true
   },
   "outputs": [],
   "source": [
    "syntheticPoints[:5]"
   ]
  },
  {
   "cell_type": "code",
   "execution_count": null,
   "id": "da5ebdb9",
   "metadata": {},
   "outputs": [],
   "source": [
    "data.data1[:5]"
   ]
  },
  {
   "cell_type": "code",
   "execution_count": null,
   "id": "4043256c",
   "metadata": {},
   "outputs": [],
   "source": [
    "import math\n",
    "dists = [min([math.sqrt(sum(y*y)) for y in (data.data1 - p) ]) for p in syntheticPoints]\n",
    "print( min(dists), sum(dists) / len(dists), max(dists) )"
   ]
  },
  {
   "cell_type": "code",
   "execution_count": null,
   "id": "3bcc8cb7",
   "metadata": {},
   "outputs": [],
   "source": [
    "v = gen.predictReal(data.data1)\n",
    "(min(v), max(v), sum(v) / len(v))"
   ]
  },
  {
   "cell_type": "code",
   "execution_count": null,
   "id": "e0352dc8-3192-4cc0-ada4-1a0c450f5941",
   "metadata": {},
   "outputs": [],
   "source": []
  }
 ],
 "metadata": {
  "kernelspec": {
   "display_name": "Python 3 (ipykernel)",
   "language": "python",
   "name": "python3"
  },
  "language_info": {
   "codemirror_mode": {
    "name": "ipython",
    "version": 3
   },
   "file_extension": ".py",
   "mimetype": "text/x-python",
   "name": "python",
   "nbconvert_exporter": "python",
   "pygments_lexer": "ipython3",
   "version": "3.11.7"
  }
 },
 "nbformat": 4,
 "nbformat_minor": 5
}
