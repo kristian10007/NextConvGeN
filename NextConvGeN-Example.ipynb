{
 "cells": [
  {
   "cell_type": "code",
   "execution_count": 1,
   "id": "b9b5254c",
   "metadata": {},
   "outputs": [],
   "source": [
    "from library.analysis import loadDataset, testSets\n",
    "from library.generators.NextConvGeN import NextConvGeN\n",
    "from fdc.fdc import FDC"
   ]
  },
  {
   "cell_type": "code",
   "execution_count": 2,
   "id": "6bfec0a2",
   "metadata": {},
   "outputs": [
    {
     "name": "stdout",
     "output_type": "stream",
     "text": [
      "Load 'folding_abalone_17_vs_7_8_9_10'\n",
      "from pickle file\n",
      "Data loaded.\n"
     ]
    }
   ],
   "source": [
    "data = loadDataset(testSets[0])"
   ]
  },
  {
   "cell_type": "code",
   "execution_count": 3,
   "id": "6d686da5",
   "metadata": {},
   "outputs": [
    {
     "name": "stdout",
     "output_type": "stream",
     "text": [
      "(2338, 2280, 58)\n"
     ]
    }
   ],
   "source": [
    "print((len(data.data), len(data.data0), len(data.data1)))"
   ]
  },
  {
   "cell_type": "code",
   "execution_count": 4,
   "id": "9e3e3806",
   "metadata": {},
   "outputs": [],
   "source": [
    "fdc = FDC()\n",
    "fdc.nom_list = [0]\n",
    "fdc.cont_list = list(range(data.data0.shape[1]))[1:]"
   ]
  },
  {
   "cell_type": "code",
   "execution_count": 5,
   "id": "01d71d6a",
   "metadata": {},
   "outputs": [],
   "source": [
    "gen = NextConvGeN(data.data0.shape[1], neb=5, fdc=fdc)"
   ]
  },
  {
   "cell_type": "code",
   "execution_count": 6,
   "id": "ad01be2b",
   "metadata": {
    "scrolled": false
   },
   "outputs": [],
   "source": [
    "gen.reset(data.data1)"
   ]
  },
  {
   "cell_type": "code",
   "execution_count": 7,
   "id": "4698522c",
   "metadata": {
    "scrolled": false
   },
   "outputs": [
    {
     "name": "stdout",
     "output_type": "stream",
     "text": [
      "FDC.normalize (init): 0.00003 / 0.000s\n",
      "FDC.normalize (clustering CONT): 3.72029 / 3.720s\n",
      "FDC.normalize (clustering ORD): 0.00008 / 3.720s\n",
      "FDC.normalize (clustering NOM): 0.86053 / 4.581s\n",
      "FDC.normalize (concat): 0.00009 / 4.581s\n",
      "FDC.normalize (total): 0.00005 / 4.581s\n",
      "|N| = (58, 3)\n",
      "|D| = (58, 8)\n",
      "[==========] [======    ] [======    ]\r"
     ]
    }
   ],
   "source": [
    "gen.train(data.data1)"
   ]
  },
  {
   "cell_type": "code",
   "execution_count": 8,
   "id": "cda17654",
   "metadata": {
    "scrolled": false
   },
   "outputs": [],
   "source": [
    "syntheticPoints = gen.generateData(10)"
   ]
  },
  {
   "cell_type": "code",
   "execution_count": 9,
   "id": "41853bd3",
   "metadata": {},
   "outputs": [
    {
     "data": {
      "text/plain": [
       "array([[2.        , 0.65499765, 0.4849983 , 0.19499929, 1.6199942 ,\n",
       "        0.62749773, 0.35799873, 0.4849983 ],\n",
       "       [2.        , 0.        , 0.        , 0.        , 0.        ,\n",
       "        0.        , 0.        , 0.        ],\n",
       "       [2.        , 0.675128  , 0.5052864 , 0.19699104, 1.7421625 ,\n",
       "        0.6536507 , 0.37853563, 0.56446123],\n",
       "       [2.        , 0.6661995 , 0.5332047 , 0.22259828, 1.8578734 ,\n",
       "        0.6830528 , 0.34449178, 0.6188356 ],\n",
       "       [2.        , 0.72559255, 0.55844223, 0.20790705, 2.185757  ,\n",
       "        0.8014251 , 0.4400906 , 0.68116254],\n",
       "       [2.        , 0.564998  , 0.44999838, 0.11499959, 0.90849674,\n",
       "        0.39799857, 0.1969993 , 0.28999895],\n",
       "       [1.        , 0.        , 0.        , 0.        , 0.        ,\n",
       "        0.        , 0.        , 0.        ],\n",
       "       [2.        , 0.5593842 , 0.44239312, 0.1295714 , 0.8625129 ,\n",
       "        0.3575778 , 0.1766456 , 0.27956894],\n",
       "       [2.        , 0.53590155, 0.4234482 , 0.17085862, 0.7797067 ,\n",
       "        0.27897796, 0.14812288, 0.27536932],\n",
       "       [2.        , 0.55249214, 0.4362508 , 0.1560867 , 0.8304623 ,\n",
       "        0.30816662, 0.15995005, 0.28224334]], dtype=float32)"
      ]
     },
     "execution_count": 9,
     "metadata": {},
     "output_type": "execute_result"
    }
   ],
   "source": [
    "syntheticPoints"
   ]
  },
  {
   "cell_type": "code",
   "execution_count": 10,
   "id": "da5ebdb9",
   "metadata": {},
   "outputs": [
    {
     "data": {
      "text/plain": [
       "array([[2.    , 0.565 , 0.425 , 0.16  , 0.9425, 0.3495, 0.2185, 0.275 ],\n",
       "       [0.    , 0.495 , 0.4   , 0.155 , 0.6445, 0.242 , 0.1325, 0.205 ],\n",
       "       [2.    , 0.54  , 0.435 , 0.18  , 0.996 , 0.3835, 0.226 , 0.325 ],\n",
       "       [0.    , 0.69  , 0.56  , 0.215 , 1.719 , 0.68  , 0.299 , 0.47  ],\n",
       "       [0.    , 0.68  , 0.55  , 0.21  , 1.7445, 0.5975, 0.305 , 0.625 ]])"
      ]
     },
     "execution_count": 10,
     "metadata": {},
     "output_type": "execute_result"
    }
   ],
   "source": [
    "data.data1[:5]"
   ]
  },
  {
   "cell_type": "code",
   "execution_count": 11,
   "id": "4043256c",
   "metadata": {},
   "outputs": [
    {
     "name": "stdout",
     "output_type": "stream",
     "text": [
      "7.262011849524617e-06\n",
      "1.0900237382736213\n",
      "0.1521971233926389\n",
      "0.14724563778260635\n",
      "0.18039350962815867\n",
      "4.603971230171704e-06\n",
      "1.2164251929321426\n",
      "0.06762842667122358\n",
      "0.043773831926061775\n",
      "0.03974885857620275\n"
     ]
    }
   ],
   "source": [
    "import math\n",
    "for p in syntheticPoints:\n",
    "    print(min([math.sqrt(sum(y*y)) for y in (data.data1 - p) ]))"
   ]
  },
  {
   "cell_type": "code",
   "execution_count": 12,
   "id": "3bcc8cb7",
   "metadata": {},
   "outputs": [
    {
     "data": {
      "text/plain": [
       "(0.45488226, 0.516324, 0.4929192143267599)"
      ]
     },
     "execution_count": 12,
     "metadata": {},
     "output_type": "execute_result"
    }
   ],
   "source": [
    "v = gen.predictReal(data.data1)\n",
    "(min(v), max(v), sum(v) / len(v))"
   ]
  }
 ],
 "metadata": {
  "kernelspec": {
   "display_name": "Python 3",
   "language": "python",
   "name": "python3"
  },
  "language_info": {
   "codemirror_mode": {
    "name": "ipython",
    "version": 3
   },
   "file_extension": ".py",
   "mimetype": "text/x-python",
   "name": "python",
   "nbconvert_exporter": "python",
   "pygments_lexer": "ipython3",
   "version": "3.8.5"
  }
 },
 "nbformat": 4,
 "nbformat_minor": 5
}
